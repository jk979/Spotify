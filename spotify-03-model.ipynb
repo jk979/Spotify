{
 "cells": [
  {
   "cell_type": "code",
   "execution_count": null,
   "metadata": {},
   "outputs": [
    {
     "name": "stderr",
     "output_type": "stream",
     "text": [
      "Using TensorFlow backend.\n"
     ]
    },
    {
     "ename": "RuntimeError",
     "evalue": "module compiled against API version 0xc but this version of numpy is 0xb",
     "output_type": "error",
     "traceback": [
      "\u001b[0;31m---------------------------------------------------------------------------\u001b[0m",
      "\u001b[0;31mRuntimeError\u001b[0m                              Traceback (most recent call last)",
      "\u001b[0;31mRuntimeError\u001b[0m: module compiled against API version 0xc but this version of numpy is 0xb"
     ]
    },
    {
     "ename": "ImportError",
     "evalue": "numpy.core.multiarray failed to import",
     "output_type": "error",
     "traceback": [
      "\u001b[0;31m---------------------------------------------------------------------------\u001b[0m",
      "\u001b[0;31mImportError\u001b[0m                               Traceback (most recent call last)",
      "\u001b[0;31mImportError\u001b[0m: numpy.core.multiarray failed to import"
     ]
    },
    {
     "ename": "ImportError",
     "evalue": "numpy.core.umath failed to import",
     "output_type": "error",
     "traceback": [
      "\u001b[0;31m---------------------------------------------------------------------------\u001b[0m",
      "\u001b[0;31mImportError\u001b[0m                               Traceback (most recent call last)",
      "\u001b[0;31mImportError\u001b[0m: numpy.core.umath failed to import"
     ]
    },
    {
     "ename": "ImportError",
     "evalue": "numpy.core.umath failed to import",
     "output_type": "error",
     "traceback": [
      "\u001b[0;31m---------------------------------------------------------------------------\u001b[0m",
      "\u001b[0;31mImportError\u001b[0m                               Traceback (most recent call last)",
      "\u001b[0;31mImportError\u001b[0m: numpy.core.umath failed to import"
     ]
    }
   ],
   "source": [
    "import json\n",
    "import pandas as pd\n",
    "from pprint import pprint\n",
    "import os\n",
    "import numpy as np\n",
    "import matplotlib.pyplot as plt\n",
    "import sys\n",
    "import keras\n",
    "import spotipy\n",
    "import spotipy.oauth2\n",
    "import seaborn as sns\n",
    "\n",
    "from sklearn.model_selection import train_test_split\n",
    "from scipy.sparse.linalg import svds\n",
    "from sklearn.neighbors import NearestNeighbors\n",
    "from sklearn.metrics.pairwise import linear_kernel\n",
    "from sklearn import preprocessing\n",
    "from scipy.sparse import coo_matrix\n",
    "\n",
    "fileDir = os.path.dirname(os.path.realpath('__file__'))"
   ]
  },
  {
   "cell_type": "markdown",
   "metadata": {},
   "source": [
    "**Major To-Dos**:\n",
    "- Need genres for validation\n",
    "- Need lyrics for additional models\n",
    "- Audio data would be a nice to have for additional models\n",
    "- Other to-dos for generalizing methods / improving usability of code included below\n",
    "- Try building factorization machine model\n",
    "- Comparison of error on various models tried below\n",
    "- **Replace track frame with URI frame given non-unique names**"
   ]
  },
  {
   "cell_type": "markdown",
   "metadata": {},
   "source": [
    "**Section 1. The below loads in the datasets. The explode and unpack functions are used to generate a matrix with a line for each song play, with a playlist ID to indicate which playlist it originally came from.**"
   ]
  },
  {
   "cell_type": "code",
   "execution_count": 7,
   "metadata": {
    "collapsed": true
   },
   "outputs": [],
   "source": [
    "n_playlists = 1999\n",
    "playlists_list = list()\n",
    "lower_bound = 0\n",
    "upper_bound = 999\n",
    "step = 1000\n",
    "\n",
    "while (upper_bound <= n_playlists):\n",
    "    slice_name = 'data\\mpd.slice.' + str(lower_bound) + '-' + str(upper_bound) + '.json'\n",
    "    test_string = os.path.join(fileDir, slice_name)\n",
    "    with open(test_string) as json_data:\n",
    "        d = json.load(json_data)\n",
    "        json_data.close()\n",
    "        playlists_list.append(d['playlists'])\n",
    "    lower_bound += step\n",
    "    upper_bound += step\n",
    "    \n",
    "flatten = lambda l: [item for sublist in l for item in sublist]\n",
    "playlists_list = flatten(playlists_list)"
   ]
  },
  {
   "cell_type": "code",
   "execution_count": 8,
   "metadata": {
    "collapsed": true
   },
   "outputs": [],
   "source": [
    "def explode(df, lst_cols, fill_value=''):\n",
    "    if lst_cols and not isinstance(lst_cols, list):\n",
    "        lst_cols = [lst_cols]\n",
    "    idx_cols = df.columns.difference(lst_cols)\n",
    "\n",
    "    lens = df[lst_cols[0]].str.len()\n",
    "\n",
    "    if (lens > 0).all():\n",
    "        return pd.DataFrame({\n",
    "            col:np.repeat(df[col].values, lens)\n",
    "            for col in idx_cols\n",
    "        }).assign(**{col:np.concatenate(df[col].values) for col in lst_cols}) \\\n",
    "          .loc[:, df.columns]\n",
    "    else:\n",
    "        return pd.DataFrame({\n",
    "            col:np.repeat(df[col].values, lens)\n",
    "            for col in idx_cols\n",
    "        }).assign(**{col:np.concatenate(df[col].values) for col in lst_cols}) \\\n",
    "          .append(df.loc[lens==0, idx_cols]).fillna(fill_value) \\\n",
    "          .loc[:, df.columns]\n",
    "    \n",
    "def unpack(df, column, fillna=None):\n",
    "    ret = None\n",
    "    if fillna is None:\n",
    "        ret = pd.concat([df, pd.DataFrame((d for idx, d in df[column].iteritems()))], axis=1)\n",
    "        del ret[column]\n",
    "    else:\n",
    "        ret = pd.concat([df, pd.DataFrame((d for idx, d in df[column].iteritems())).fillna(fillna)], axis=1)\n",
    "        del ret[column]\n",
    "    return ret"
   ]
  },
  {
   "cell_type": "code",
   "execution_count": 9,
   "metadata": {},
   "outputs": [
    {
     "data": {
      "text/html": [
       "<div>\n",
       "<style scoped>\n",
       "    .dataframe tbody tr th:only-of-type {\n",
       "        vertical-align: middle;\n",
       "    }\n",
       "\n",
       "    .dataframe tbody tr th {\n",
       "        vertical-align: top;\n",
       "    }\n",
       "\n",
       "    .dataframe thead th {\n",
       "        text-align: right;\n",
       "    }\n",
       "</style>\n",
       "<table border=\"1\" class=\"dataframe\">\n",
       "  <thead>\n",
       "    <tr style=\"text-align: right;\">\n",
       "      <th></th>\n",
       "      <th>collaborative</th>\n",
       "      <th>description</th>\n",
       "      <th>duration_ms</th>\n",
       "      <th>modified_at</th>\n",
       "      <th>name</th>\n",
       "      <th>num_albums</th>\n",
       "      <th>num_artists</th>\n",
       "      <th>num_edits</th>\n",
       "      <th>num_followers</th>\n",
       "      <th>num_tracks</th>\n",
       "      <th>pid</th>\n",
       "      <th>album_name</th>\n",
       "      <th>album_uri</th>\n",
       "      <th>artist_name</th>\n",
       "      <th>artist_uri</th>\n",
       "      <th>duration_ms</th>\n",
       "      <th>pos</th>\n",
       "      <th>track_name</th>\n",
       "      <th>track_uri</th>\n",
       "    </tr>\n",
       "  </thead>\n",
       "  <tbody>\n",
       "    <tr>\n",
       "      <th>0</th>\n",
       "      <td>false</td>\n",
       "      <td>NaN</td>\n",
       "      <td>11532414</td>\n",
       "      <td>1493424000</td>\n",
       "      <td>Throwbacks</td>\n",
       "      <td>47</td>\n",
       "      <td>37</td>\n",
       "      <td>6</td>\n",
       "      <td>1</td>\n",
       "      <td>52</td>\n",
       "      <td>0</td>\n",
       "      <td>The Cookbook</td>\n",
       "      <td>spotify:album:6vV5UrXcfyQD1wu4Qo2I9K</td>\n",
       "      <td>Missy Elliott</td>\n",
       "      <td>spotify:artist:2wIVse2owClT7go1WT98tk</td>\n",
       "      <td>226863</td>\n",
       "      <td>0</td>\n",
       "      <td>Lose Control (feat. Ciara &amp; Fat Man Scoop)</td>\n",
       "      <td>spotify:track:0UaMYEvWZi0ZqiDOoHU3YI</td>\n",
       "    </tr>\n",
       "    <tr>\n",
       "      <th>1</th>\n",
       "      <td>false</td>\n",
       "      <td>NaN</td>\n",
       "      <td>11532414</td>\n",
       "      <td>1493424000</td>\n",
       "      <td>Throwbacks</td>\n",
       "      <td>47</td>\n",
       "      <td>37</td>\n",
       "      <td>6</td>\n",
       "      <td>1</td>\n",
       "      <td>52</td>\n",
       "      <td>0</td>\n",
       "      <td>In The Zone</td>\n",
       "      <td>spotify:album:0z7pVBGOD7HCIB7S8eLkLI</td>\n",
       "      <td>Britney Spears</td>\n",
       "      <td>spotify:artist:26dSoYclwsYLMAKD3tpOr4</td>\n",
       "      <td>198800</td>\n",
       "      <td>1</td>\n",
       "      <td>Toxic</td>\n",
       "      <td>spotify:track:6I9VzXrHxO9rA9A5euc8Ak</td>\n",
       "    </tr>\n",
       "    <tr>\n",
       "      <th>2</th>\n",
       "      <td>false</td>\n",
       "      <td>NaN</td>\n",
       "      <td>11532414</td>\n",
       "      <td>1493424000</td>\n",
       "      <td>Throwbacks</td>\n",
       "      <td>47</td>\n",
       "      <td>37</td>\n",
       "      <td>6</td>\n",
       "      <td>1</td>\n",
       "      <td>52</td>\n",
       "      <td>0</td>\n",
       "      <td>Dangerously In Love (Alben für die Ewigkeit)</td>\n",
       "      <td>spotify:album:25hVFAxTlDvXbx2X2QkUkE</td>\n",
       "      <td>Beyoncé</td>\n",
       "      <td>spotify:artist:6vWDO969PvNqNYHIOW5v0m</td>\n",
       "      <td>235933</td>\n",
       "      <td>2</td>\n",
       "      <td>Crazy In Love</td>\n",
       "      <td>spotify:track:0WqIKmW4BTrj3eJFmnCKMv</td>\n",
       "    </tr>\n",
       "    <tr>\n",
       "      <th>3</th>\n",
       "      <td>false</td>\n",
       "      <td>NaN</td>\n",
       "      <td>11532414</td>\n",
       "      <td>1493424000</td>\n",
       "      <td>Throwbacks</td>\n",
       "      <td>47</td>\n",
       "      <td>37</td>\n",
       "      <td>6</td>\n",
       "      <td>1</td>\n",
       "      <td>52</td>\n",
       "      <td>0</td>\n",
       "      <td>Justified</td>\n",
       "      <td>spotify:album:6QPkyl04rXwTGlGlcYaRoW</td>\n",
       "      <td>Justin Timberlake</td>\n",
       "      <td>spotify:artist:31TPClRtHm23RisEBtV3X7</td>\n",
       "      <td>267266</td>\n",
       "      <td>3</td>\n",
       "      <td>Rock Your Body</td>\n",
       "      <td>spotify:track:1AWQoqb9bSvzTjaLralEkT</td>\n",
       "    </tr>\n",
       "    <tr>\n",
       "      <th>4</th>\n",
       "      <td>false</td>\n",
       "      <td>NaN</td>\n",
       "      <td>11532414</td>\n",
       "      <td>1493424000</td>\n",
       "      <td>Throwbacks</td>\n",
       "      <td>47</td>\n",
       "      <td>37</td>\n",
       "      <td>6</td>\n",
       "      <td>1</td>\n",
       "      <td>52</td>\n",
       "      <td>0</td>\n",
       "      <td>Hot Shot</td>\n",
       "      <td>spotify:album:6NmFmPX56pcLBOFMhIiKvF</td>\n",
       "      <td>Shaggy</td>\n",
       "      <td>spotify:artist:5EvFsr3kj42KNv97ZEnqij</td>\n",
       "      <td>227600</td>\n",
       "      <td>4</td>\n",
       "      <td>It Wasn't Me</td>\n",
       "      <td>spotify:track:1lzr43nnXAijIGYnCT8M8H</td>\n",
       "    </tr>\n",
       "  </tbody>\n",
       "</table>\n",
       "</div>"
      ],
      "text/plain": [
       "  collaborative description  duration_ms  modified_at        name  num_albums  \\\n",
       "0         false         NaN     11532414   1493424000  Throwbacks          47   \n",
       "1         false         NaN     11532414   1493424000  Throwbacks          47   \n",
       "2         false         NaN     11532414   1493424000  Throwbacks          47   \n",
       "3         false         NaN     11532414   1493424000  Throwbacks          47   \n",
       "4         false         NaN     11532414   1493424000  Throwbacks          47   \n",
       "\n",
       "   num_artists  num_edits  num_followers  num_tracks  pid  \\\n",
       "0           37          6              1          52    0   \n",
       "1           37          6              1          52    0   \n",
       "2           37          6              1          52    0   \n",
       "3           37          6              1          52    0   \n",
       "4           37          6              1          52    0   \n",
       "\n",
       "                                     album_name  \\\n",
       "0                                  The Cookbook   \n",
       "1                                   In The Zone   \n",
       "2  Dangerously In Love (Alben für die Ewigkeit)   \n",
       "3                                     Justified   \n",
       "4                                      Hot Shot   \n",
       "\n",
       "                              album_uri        artist_name  \\\n",
       "0  spotify:album:6vV5UrXcfyQD1wu4Qo2I9K      Missy Elliott   \n",
       "1  spotify:album:0z7pVBGOD7HCIB7S8eLkLI     Britney Spears   \n",
       "2  spotify:album:25hVFAxTlDvXbx2X2QkUkE            Beyoncé   \n",
       "3  spotify:album:6QPkyl04rXwTGlGlcYaRoW  Justin Timberlake   \n",
       "4  spotify:album:6NmFmPX56pcLBOFMhIiKvF             Shaggy   \n",
       "\n",
       "                              artist_uri  duration_ms  pos  \\\n",
       "0  spotify:artist:2wIVse2owClT7go1WT98tk       226863    0   \n",
       "1  spotify:artist:26dSoYclwsYLMAKD3tpOr4       198800    1   \n",
       "2  spotify:artist:6vWDO969PvNqNYHIOW5v0m       235933    2   \n",
       "3  spotify:artist:31TPClRtHm23RisEBtV3X7       267266    3   \n",
       "4  spotify:artist:5EvFsr3kj42KNv97ZEnqij       227600    4   \n",
       "\n",
       "                                   track_name  \\\n",
       "0  Lose Control (feat. Ciara & Fat Man Scoop)   \n",
       "1                                       Toxic   \n",
       "2                               Crazy In Love   \n",
       "3                              Rock Your Body   \n",
       "4                                It Wasn't Me   \n",
       "\n",
       "                              track_uri  \n",
       "0  spotify:track:0UaMYEvWZi0ZqiDOoHU3YI  \n",
       "1  spotify:track:6I9VzXrHxO9rA9A5euc8Ak  \n",
       "2  spotify:track:0WqIKmW4BTrj3eJFmnCKMv  \n",
       "3  spotify:track:1AWQoqb9bSvzTjaLralEkT  \n",
       "4  spotify:track:1lzr43nnXAijIGYnCT8M8H  "
      ]
     },
     "execution_count": 9,
     "metadata": {},
     "output_type": "execute_result"
    }
   ],
   "source": [
    "temp_frame = pd.DataFrame(playlists_list)\n",
    "temp_frame.tracks[0]\n",
    "\n",
    "lst_col = 'tracks'\n",
    "exploded_frame = explode(temp_frame, ['tracks'], fill_value='')\n",
    "playlists_frame = unpack(exploded_frame,'tracks','')\n",
    "playlists_frame.head()"
   ]
  },
  {
   "cell_type": "markdown",
   "metadata": {},
   "source": [
    "**Section 2. The cell below generates a matrix of P playlists x N songs (tracks_frame), with a 1 whenever a song is present in a playlist. This is the starting format to use for a number of the recommendation system techniques.**"
   ]
  },
  {
   "cell_type": "code",
   "execution_count": null,
   "metadata": {
    "collapsed": true
   },
   "outputs": [],
   "source": [
    "# Create necessary starting matrix dimensions for matrix factorization\n",
    "# To do: update all references to be based on track ID rather than track name\n",
    "playlists_frame.drop_duplicates(['track_name','pid'],keep= 'last',inplace=True)\n",
    "tracks_frame = playlists_frame.pivot_table(values = 'pos',index = 'pid', \n",
    "                                           columns ='track_name',aggfunc=lambda x:len(x.unique())).fillna(0)"
   ]
  },
  {
   "cell_type": "code",
   "execution_count": 160,
   "metadata": {
    "collapsed": true
   },
   "outputs": [],
   "source": [
    "unique_tracks = playlists_frame.drop_duplicates(subset='track_uri')"
   ]
  },
  {
   "cell_type": "code",
   "execution_count": null,
   "metadata": {
    "collapsed": true
   },
   "outputs": [],
   "source": []
  },
  {
   "cell_type": "markdown",
   "metadata": {},
   "source": [
    "**Section 3. The cells below perform matrix factorization and test it. Matrix factorization attempts to find the \"k\" dimensional matrix that best approximates user's actual preferences. There is no interpretability of the resulting values, but it has strong predictive power.**"
   ]
  },
  {
   "cell_type": "code",
   "execution_count": 22,
   "metadata": {},
   "outputs": [
    {
     "data": {
      "text/html": [
       "<div>\n",
       "<style scoped>\n",
       "    .dataframe tbody tr th:only-of-type {\n",
       "        vertical-align: middle;\n",
       "    }\n",
       "\n",
       "    .dataframe tbody tr th {\n",
       "        vertical-align: top;\n",
       "    }\n",
       "\n",
       "    .dataframe thead th {\n",
       "        text-align: right;\n",
       "    }\n",
       "</style>\n",
       "<table border=\"1\" class=\"dataframe\">\n",
       "  <thead>\n",
       "    <tr style=\"text-align: right;\">\n",
       "      <th>track_name</th>\n",
       "      <th>\"*!*!\" What U Heard</th>\n",
       "      <th>\"40\" - Remastered 2008</th>\n",
       "      <th>\"45\"</th>\n",
       "      <th>\"A Lovely Night\"</th>\n",
       "      <th>\"A Lovely Night\" (Reprise)</th>\n",
       "      <th>\"C\" Is For Cookie - Introduction</th>\n",
       "      <th>\"Can't Repeat The Past?\"</th>\n",
       "      <th>\"Do I Love You Because You're Beautiful\"</th>\n",
       "      <th>\"Esh 'Dani, Alash Mshit\"</th>\n",
       "      <th>\"Gatsby Believed In The Green Light\"</th>\n",
       "      <th>...</th>\n",
       "      <th>양화대교 (Yanghwa Brdg)</th>\n",
       "      <th>오늘 헤어졌어요</th>\n",
       "      <th>왜 (Keep Your Head Down) [Rearranged]</th>\n",
       "      <th>왜 이러니</th>\n",
       "      <th>우주보다 좋아해 (I Love You More Than Universe)</th>\n",
       "      <th>으르렁 Growl</th>\n",
       "      <th>전야 前夜 The Eve</th>\n",
       "      <th>주문 Mirotic</th>\n",
       "      <th>중독 Overdose</th>\n",
       "      <th>헤어지지 못하는 여자, 떠나가지 못하는 남자 Can't Breakup Girl, Can't Breakaway Boy (feat. 정인 Jung In)</th>\n",
       "    </tr>\n",
       "  </thead>\n",
       "  <tbody>\n",
       "    <tr>\n",
       "      <th>0</th>\n",
       "      <td>-0.001311</td>\n",
       "      <td>0.000029</td>\n",
       "      <td>0.000731</td>\n",
       "      <td>-0.000045</td>\n",
       "      <td>-0.000045</td>\n",
       "      <td>-0.001146</td>\n",
       "      <td>-0.000216</td>\n",
       "      <td>-0.000045</td>\n",
       "      <td>-4.344472e-19</td>\n",
       "      <td>-0.000216</td>\n",
       "      <td>...</td>\n",
       "      <td>-0.000304</td>\n",
       "      <td>0.000183</td>\n",
       "      <td>0.000183</td>\n",
       "      <td>0.000183</td>\n",
       "      <td>0.000183</td>\n",
       "      <td>-0.000802</td>\n",
       "      <td>-0.000161</td>\n",
       "      <td>0.000183</td>\n",
       "      <td>-0.000538</td>\n",
       "      <td>0.000183</td>\n",
       "    </tr>\n",
       "    <tr>\n",
       "      <th>1</th>\n",
       "      <td>-0.000545</td>\n",
       "      <td>0.000004</td>\n",
       "      <td>-0.000293</td>\n",
       "      <td>0.006850</td>\n",
       "      <td>0.006850</td>\n",
       "      <td>0.000055</td>\n",
       "      <td>-0.000051</td>\n",
       "      <td>0.006850</td>\n",
       "      <td>-3.026727e-19</td>\n",
       "      <td>-0.000051</td>\n",
       "      <td>...</td>\n",
       "      <td>-0.000039</td>\n",
       "      <td>-0.000043</td>\n",
       "      <td>-0.000043</td>\n",
       "      <td>-0.000043</td>\n",
       "      <td>-0.000043</td>\n",
       "      <td>-0.000072</td>\n",
       "      <td>0.000007</td>\n",
       "      <td>-0.000043</td>\n",
       "      <td>-0.000034</td>\n",
       "      <td>-0.000043</td>\n",
       "    </tr>\n",
       "    <tr>\n",
       "      <th>2</th>\n",
       "      <td>0.001203</td>\n",
       "      <td>0.000025</td>\n",
       "      <td>0.000073</td>\n",
       "      <td>0.000101</td>\n",
       "      <td>0.000101</td>\n",
       "      <td>0.000299</td>\n",
       "      <td>0.000032</td>\n",
       "      <td>0.000101</td>\n",
       "      <td>-1.574184e-19</td>\n",
       "      <td>0.000032</td>\n",
       "      <td>...</td>\n",
       "      <td>0.000259</td>\n",
       "      <td>0.000055</td>\n",
       "      <td>0.000055</td>\n",
       "      <td>0.000055</td>\n",
       "      <td>0.000055</td>\n",
       "      <td>0.000251</td>\n",
       "      <td>0.000219</td>\n",
       "      <td>0.000055</td>\n",
       "      <td>0.000539</td>\n",
       "      <td>0.000055</td>\n",
       "    </tr>\n",
       "    <tr>\n",
       "      <th>3</th>\n",
       "      <td>0.000810</td>\n",
       "      <td>-0.000027</td>\n",
       "      <td>0.000374</td>\n",
       "      <td>-0.000289</td>\n",
       "      <td>-0.000289</td>\n",
       "      <td>0.000387</td>\n",
       "      <td>0.000028</td>\n",
       "      <td>-0.000289</td>\n",
       "      <td>-2.790878e-19</td>\n",
       "      <td>0.000028</td>\n",
       "      <td>...</td>\n",
       "      <td>0.000248</td>\n",
       "      <td>0.000047</td>\n",
       "      <td>0.000047</td>\n",
       "      <td>0.000047</td>\n",
       "      <td>0.000047</td>\n",
       "      <td>0.000171</td>\n",
       "      <td>0.000150</td>\n",
       "      <td>0.000047</td>\n",
       "      <td>0.000374</td>\n",
       "      <td>0.000047</td>\n",
       "    </tr>\n",
       "    <tr>\n",
       "      <th>4</th>\n",
       "      <td>-0.000439</td>\n",
       "      <td>0.000017</td>\n",
       "      <td>-0.000350</td>\n",
       "      <td>0.000642</td>\n",
       "      <td>0.000642</td>\n",
       "      <td>-0.000193</td>\n",
       "      <td>-0.000059</td>\n",
       "      <td>0.000642</td>\n",
       "      <td>1.193113e-19</td>\n",
       "      <td>-0.000059</td>\n",
       "      <td>...</td>\n",
       "      <td>0.000232</td>\n",
       "      <td>0.000036</td>\n",
       "      <td>0.000036</td>\n",
       "      <td>0.000036</td>\n",
       "      <td>0.000036</td>\n",
       "      <td>-0.000021</td>\n",
       "      <td>0.000060</td>\n",
       "      <td>0.000036</td>\n",
       "      <td>-0.000270</td>\n",
       "      <td>0.000036</td>\n",
       "    </tr>\n",
       "  </tbody>\n",
       "</table>\n",
       "<p>5 rows × 48774 columns</p>\n",
       "</div>"
      ],
      "text/plain": [
       "track_name  \"*!*!\" What U Heard  \"40\" - Remastered 2008      \"45\"  \\\n",
       "0                     -0.001311                0.000029  0.000731   \n",
       "1                     -0.000545                0.000004 -0.000293   \n",
       "2                      0.001203                0.000025  0.000073   \n",
       "3                      0.000810               -0.000027  0.000374   \n",
       "4                     -0.000439                0.000017 -0.000350   \n",
       "\n",
       "track_name  \"A Lovely Night\"  \"A Lovely Night\" (Reprise)  \\\n",
       "0                  -0.000045                   -0.000045   \n",
       "1                   0.006850                    0.006850   \n",
       "2                   0.000101                    0.000101   \n",
       "3                  -0.000289                   -0.000289   \n",
       "4                   0.000642                    0.000642   \n",
       "\n",
       "track_name  \"C\" Is For Cookie - Introduction  \"Can't Repeat The Past?\"  \\\n",
       "0                                  -0.001146                 -0.000216   \n",
       "1                                   0.000055                 -0.000051   \n",
       "2                                   0.000299                  0.000032   \n",
       "3                                   0.000387                  0.000028   \n",
       "4                                  -0.000193                 -0.000059   \n",
       "\n",
       "track_name  \"Do I Love You Because You're Beautiful\"  \\\n",
       "0                                          -0.000045   \n",
       "1                                           0.006850   \n",
       "2                                           0.000101   \n",
       "3                                          -0.000289   \n",
       "4                                           0.000642   \n",
       "\n",
       "track_name  \"Esh 'Dani, Alash Mshit\"  \"Gatsby Believed In The Green Light\"  \\\n",
       "0                      -4.344472e-19                             -0.000216   \n",
       "1                      -3.026727e-19                             -0.000051   \n",
       "2                      -1.574184e-19                              0.000032   \n",
       "3                      -2.790878e-19                              0.000028   \n",
       "4                       1.193113e-19                             -0.000059   \n",
       "\n",
       "track_name                                         ...                                           \\\n",
       "0                                                  ...                                            \n",
       "1                                                  ...                                            \n",
       "2                                                  ...                                            \n",
       "3                                                  ...                                            \n",
       "4                                                  ...                                            \n",
       "\n",
       "track_name  양화대교 (Yanghwa Brdg)  오늘 헤어졌어요  \\\n",
       "0                     -0.000304  0.000183   \n",
       "1                     -0.000039 -0.000043   \n",
       "2                      0.000259  0.000055   \n",
       "3                      0.000248  0.000047   \n",
       "4                      0.000232  0.000036   \n",
       "\n",
       "track_name  왜 (Keep Your Head Down) [Rearranged]     왜 이러니  \\\n",
       "0                                       0.000183  0.000183   \n",
       "1                                      -0.000043 -0.000043   \n",
       "2                                       0.000055  0.000055   \n",
       "3                                       0.000047  0.000047   \n",
       "4                                       0.000036  0.000036   \n",
       "\n",
       "track_name  우주보다 좋아해 (I Love You More Than Universe)  으르렁 Growl  \\\n",
       "0                                           0.000183  -0.000802   \n",
       "1                                          -0.000043  -0.000072   \n",
       "2                                           0.000055   0.000251   \n",
       "3                                           0.000047   0.000171   \n",
       "4                                           0.000036  -0.000021   \n",
       "\n",
       "track_name  전야 前夜 The Eve  주문 Mirotic  중독 Overdose  \\\n",
       "0               -0.000161    0.000183    -0.000538   \n",
       "1                0.000007   -0.000043    -0.000034   \n",
       "2                0.000219    0.000055     0.000539   \n",
       "3                0.000150    0.000047     0.000374   \n",
       "4                0.000060    0.000036    -0.000270   \n",
       "\n",
       "track_name  헤어지지 못하는 여자, 떠나가지 못하는 남자 Can't Breakup Girl, Can't Breakaway Boy (feat. 정인 Jung In)  \n",
       "0                                                    0.000183                                    \n",
       "1                                                   -0.000043                                    \n",
       "2                                                    0.000055                                    \n",
       "3                                                    0.000047                                    \n",
       "4                                                    0.000036                                    \n",
       "\n",
       "[5 rows x 48774 columns]"
      ]
     },
     "execution_count": 22,
     "metadata": {},
     "output_type": "execute_result"
    }
   ],
   "source": [
    "# Matrix factorization operations: ref https://beckernick.github.io/matrix-factorization-recommender/\n",
    "U, sigma, Vt = svds(tracks_frame, k = 50)\n",
    "sigma = np.diag(sigma)\n",
    "first_product = np.dot(U,sigma)\n",
    "all_predicted = np.dot(first_product,Vt)\n",
    "pred_df = pd.DataFrame(all_predicted,columns=tracks_frame.columns)\n",
    "pred_df.head()"
   ]
  },
  {
   "cell_type": "code",
   "execution_count": 23,
   "metadata": {},
   "outputs": [
    {
     "data": {
      "text/plain": [
       "0.03393039861888059"
      ]
     },
     "execution_count": 23,
     "metadata": {},
     "output_type": "execute_result"
    }
   ],
   "source": [
    "# RMSE Calculation\n",
    "np.sqrt((np.power(tracks_frame - all_predicted,2)).values.sum()/(len(all_predicted.ravel())))\n",
    "\n",
    "# To do - separate into training and test set, \n",
    "# and calculate RMSE based on different values of k, so we can find the optimal model hyperparameters\n",
    "\n",
    "# To do - need to compare to trivial baseline of just predicting 0s all the time, since so many songs never appear in a playlist"
   ]
  },
  {
   "cell_type": "code",
   "execution_count": 24,
   "metadata": {},
   "outputs": [
    {
     "name": "stdout",
     "output_type": "stream",
     "text": [
      "Previous Picks: Index(['0 Sentimientos (Remix) [feat. Noriel, Darkiel, Lyan, Messiah & Baby Rasta]',\n",
      "       'Acércate', 'Ahora Dice', 'Ahora Me Llama', 'Ahora Me Llama - Remix',\n",
      "       'Ahora Que Te Vas (feat. Cosculluela)', 'Amigos y Enemigos',\n",
      "       'Amigos y Enemigos - Remix', 'Ay Mami (feat. Bryant Myers)',\n",
      "       'Bebe (feat. Anuel AA)', 'Bella y Sensual', 'Bonita',\n",
      "       'Bonita (Down 4 Me Remix) [feat. Kevin Roldan]', 'Báilame - Remix',\n",
      "       'Como Antes', 'Corazon De Seda (feat. Ozuna)', 'Cuatro Babys',\n",
      "       'Desobediente (feat. Alexis Y Fido)', 'Desperte Sin Ti', 'Diabla',\n",
      "       'Dile Que Tu Me Quieres',\n",
      "       'Diles (feat. Arcangel, Nengo Flow, Dj Luian & Mambo Kings)',\n",
      "       'Doble Personalidad', 'El Amante',\n",
      "       'El Dinero No Lo Es Todo (feat. Ozuna)', 'El Farsante',\n",
      "       'En La Intimidad', 'En Que País', 'Explícale', 'Fanática Sensual',\n",
      "       'Felices los 4', 'Guaya', 'Hablame Claro', 'Hola Beba',\n",
      "       'La Oportunidad - Remix', 'Lento', 'Lunes-Viernes', 'Mayores',\n",
      "       'Me Acostumbre (feat. Bad Bunny)', 'Me Ama Me Odia',\n",
      "       'Me Llama (feat. Jory Boy, Ñejo, Darkiel & Gigolo Y La Exce)',\n",
      "       'Me Mata', 'Me Rehúso', 'Mera Bebe', 'Mi Tesoro (feat. Nicky Jam)',\n",
      "       'Netflixxx', 'Nunca Me Amo', 'Odisea', 'Otra Vez (feat. J Balvin)',\n",
      "       'Pa Pasar El Rato', 'Pa Ti', 'Pierdo la Cabeza - Official Remix',\n",
      "       'Po' encima (feat. Bryant Myers)', 'Por Qué Sigues Con Él - Remix',\n",
      "       'Por Ti', 'Pure', 'Quieres Enamorarme', 'Quiero Repetir', 'Recuerdos',\n",
      "       'Rosè (feat. Mambo Kingz, DJ Luian & Bf)',\n",
      "       'Santo Pecado (feat. Xido & El Conejo Malo) - Bryant Myers',\n",
      "       'Se Preparó', 'Sexto Sentido (feat. Bad Bunny)',\n",
      "       'Si Me Dices Que Si (feat. Nicky Jam)',\n",
      "       'Si Me Muero (feat. Farruko, Lary Over, Nengo Flow & Darell)',\n",
      "       'Si Te Busco', 'Si Tu Lo Dejas', 'Sigo Extrañándote', 'Snapchat',\n",
      "       'Sola',\n",
      "       'Sola (Remix) [feat. Daddy Yankee, Wisin, Farruko, Zion & Lennox]',\n",
      "       'Soy Igual Que Tú', 'Soy Peor',\n",
      "       'Soy Peor Remix (feat. J Balvin, Ozuna & Arcangel)',\n",
      "       'Tu No Metes Cabra', 'Tú Foto', 'Un Ratito Mas', 'Una Lady Como Tú',\n",
      "       'Visionary', 'Vuelve'],\n",
      "      dtype='object', name='track_name')\n",
      "Recommended Songs: Index(['Ay Vamos', 'Fanática Sensual', 'El Perdón', 'Ginza', '6 AM',\n",
      "       'Borro Cassette', 'Dile Que Tu Me Quieres',\n",
      "       'Bailando - Spanish Version', 'El Perdedor', 'Yo Te Lo Dije'],\n",
      "      dtype='object', name='track_name')\n"
     ]
    }
   ],
   "source": [
    "# Test matrix factorization predictions\n",
    "def predict_mf(pid,pred_df,tracks_frame,num_recommendations=10):\n",
    "    sorted_predictions = pred_df.iloc[pid,:].sort_values(ascending=False)\n",
    "    print(\"Previous Picks:\",tracks_frame.iloc[pid,:][tracks_frame.iloc[pid,:] == 1].index)\n",
    "    print(\"Recommended Songs:\",sorted_predictions[0:num_recommendations].index)\n",
    "\n",
    "# Sample Predictions\n",
    "#predict_mf(52,pred_df,tracks_frame) #Christmas songs\n",
    "#predict_mf(250,pred_df,tracks_frame)#slow jams\n",
    "predict_mf(350,pred_df,tracks_frame) #Spanish songs"
   ]
  },
  {
   "cell_type": "markdown",
   "metadata": {},
   "source": [
    "**Section 4. This is an implementation of what is sometimes called memory-based song-song CF. This is a simple approach that looks at songs that appear in similar playlists to a specific song. There is no attempt to identify any hidden causes or factors that might have resulted in these preferences.**"
   ]
  },
  {
   "cell_type": "code",
   "execution_count": 170,
   "metadata": {},
   "outputs": [
    {
     "data": {
      "text/html": [
       "<div>\n",
       "<style scoped>\n",
       "    .dataframe tbody tr th:only-of-type {\n",
       "        vertical-align: middle;\n",
       "    }\n",
       "\n",
       "    .dataframe tbody tr th {\n",
       "        vertical-align: top;\n",
       "    }\n",
       "\n",
       "    .dataframe thead th {\n",
       "        text-align: right;\n",
       "    }\n",
       "</style>\n",
       "<table border=\"1\" class=\"dataframe\">\n",
       "  <thead>\n",
       "    <tr style=\"text-align: right;\">\n",
       "      <th></th>\n",
       "      <th>pearsonR</th>\n",
       "    </tr>\n",
       "    <tr>\n",
       "      <th>track_name</th>\n",
       "      <th></th>\n",
       "    </tr>\n",
       "  </thead>\n",
       "  <tbody>\n",
       "    <tr>\n",
       "      <th>My Boo</th>\n",
       "      <td>1.000000</td>\n",
       "    </tr>\n",
       "    <tr>\n",
       "      <th>Suffocate</th>\n",
       "      <td>0.557474</td>\n",
       "    </tr>\n",
       "    <tr>\n",
       "      <th>I Don't Wanna Know (feat. Enya &amp; P. Diddy) - 2016 Remastered</th>\n",
       "      <td>0.508208</td>\n",
       "    </tr>\n",
       "    <tr>\n",
       "      <th>Let Me Hold You</th>\n",
       "      <td>0.469867</td>\n",
       "    </tr>\n",
       "    <tr>\n",
       "      <th>Differences</th>\n",
       "      <td>0.448663</td>\n",
       "    </tr>\n",
       "  </tbody>\n",
       "</table>\n",
       "</div>"
      ],
      "text/plain": [
       "                                                    pearsonR\n",
       "track_name                                                  \n",
       "My Boo                                              1.000000\n",
       "Suffocate                                           0.557474\n",
       "I Don't Wanna Know (feat. Enya & P. Diddy) - 20...  0.508208\n",
       "Let Me Hold You                                     0.469867\n",
       "Differences                                         0.448663"
      ]
     },
     "execution_count": 170,
     "metadata": {},
     "output_type": "execute_result"
    }
   ],
   "source": [
    "# Generates songs most similar to a specific song based on Pearson coefficient\n",
    "myboo_ratings = tracks_frame['My Boo']\n",
    "remindmeof_myboo = tracks_frame.corrwith(myboo_ratings)\n",
    "corr_boo = pd.DataFrame(remindmeof_myboo,columns=['pearsonR'])\n",
    "corr_boo.dropna(inplace=True)\n",
    "corr_boo.sort_values('pearsonR',ascending=False).head()\n",
    "\n",
    "# To do - memory-based user-user CF. Take songs from playlists that are similar to our playlist.\n",
    "# To do - generalize into a function that will generate a set number of predictions based on an existing playlist of multiple songs."
   ]
  },
  {
   "cell_type": "markdown",
   "metadata": {},
   "source": [
    "**Section 5. This is an implementation of a k nearest neighbors approach based on songs. The model finds the songs most similar to each other.**"
   ]
  },
  {
   "cell_type": "code",
   "execution_count": 26,
   "metadata": {},
   "outputs": [
    {
     "data": {
      "text/plain": [
       "NearestNeighbors(algorithm='brute', leaf_size=30, metric='cosine',\n",
       "         metric_params=None, n_jobs=1, n_neighbors=5, p=2, radius=1.0)"
      ]
     },
     "execution_count": 26,
     "metadata": {},
     "output_type": "execute_result"
    }
   ],
   "source": [
    "tracks_transpose = tracks_frame.transpose()\n",
    "model_knn = NearestNeighbors(metric = 'cosine',algorithm = 'brute')\n",
    "model_knn.fit(tracks_transpose)"
   ]
  },
  {
   "cell_type": "code",
   "execution_count": 30,
   "metadata": {},
   "outputs": [
    {
     "name": "stdout",
     "output_type": "stream",
     "text": [
      "Original Track: Fake ID (feat. Gretchen Wilson)\n",
      "Nearest Neighbor Number1: Save A Horse (Ride A Cowboy) with distance: 0.434314575050762\n",
      "Nearest Neighbor Number2: You Sound Good to Me with distance: 0.5527864045000421\n",
      "Nearest Neighbor Number3: Drink Drank Drunk (feat. Big & Rich and Big Smo) with distance: 0.5527864045000421\n",
      "Nearest Neighbor Number4: Redneck Games - with Alan Jackson with distance: 0.5527864045000421\n",
      "Nearest Neighbor Number5: Ride On, Ride Out - feat. DMC with distance: 0.5527864045000421\n",
      "Nearest Neighbor Number6: I Ain't In Checotah Anymore with distance: 0.5527864045000421\n",
      "Nearest Neighbor Number7: Cut Me Some Slack with distance: 0.5527864045000421\n",
      "Nearest Neighbor Number8: Lie a Little Better with distance: 0.5527864045000421\n",
      "Nearest Neighbor Number9: Take My Drunk Ass Home - Demo with distance: 0.5527864045000421\n"
     ]
    }
   ],
   "source": [
    "query_index = np.random.choice(tracks_transpose.shape[0])\n",
    "distances, indices = model_knn.kneighbors(tracks_transpose.iloc[query_index,:].values.reshape(1,-1),n_neighbors=10)\n",
    "\n",
    "for i in range(0,len(distances.flatten())):\n",
    "    if i == 0:\n",
    "        print(\"Original Track:\",tracks_transpose.index[query_index])\n",
    "    else:\n",
    "        print(\"Nearest Neighbor Number\" + str(i) + \": \" + str(tracks_transpose.index[indices.flatten()[i]]) + \\\n",
    "              \" with distance: \" + str(distances.flatten()[i]))\n",
    "        \n",
    "# To Do: Implement knearest neighbors based on playlists, and then suggest songs from the neighbor playlists.\n",
    "# To Do: Generalize into a function that takes a playlist as an input, then suggests songs based on songs in that playlist"
   ]
  },
  {
   "cell_type": "markdown",
   "metadata": {},
   "source": [
    "**Section 6. This is an implementation of a neural network based approach to recommendation. The approach has many constraints - if we train it on the full dataset, it will always predict a 0. Instead, we took a limited approach and filtered for the most popular songs (at least 30) and playlists that contained at least 30 songs after the filter.**"
   ]
  },
  {
   "cell_type": "code",
   "execution_count": 152,
   "metadata": {
    "collapsed": true
   },
   "outputs": [],
   "source": [
    "from keras.layers import Input, Embedding, Flatten, Dropout, Dense, Dot\n",
    "from keras import Model\n",
    "from keras import optimizers"
   ]
  },
  {
   "cell_type": "code",
   "execution_count": 451,
   "metadata": {},
   "outputs": [
    {
     "name": "stdout",
     "output_type": "stream",
     "text": [
      "__________________________________________________________________________________________________\n",
      "Layer (type)                    Output Shape         Param #     Connected to                     \n",
      "==================================================================================================\n",
      "input_61 (InputLayer)           (None, 1)            0                                            \n",
      "__________________________________________________________________________________________________\n",
      "input_62 (InputLayer)           (None, 1)            0                                            \n",
      "__________________________________________________________________________________________________\n",
      "embedding_61 (Embedding)        (None, 1, 15)        5160        input_61[0][0]                   \n",
      "__________________________________________________________________________________________________\n",
      "embedding_62 (Embedding)        (None, 1, 15)        1260        input_62[0][0]                   \n",
      "__________________________________________________________________________________________________\n",
      "flatten_53 (Flatten)            (None, 15)           0           embedding_61[0][0]               \n",
      "__________________________________________________________________________________________________\n",
      "flatten_54 (Flatten)            (None, 15)           0           embedding_62[0][0]               \n",
      "__________________________________________________________________________________________________\n",
      "dot_17 (Dot)                    (None, 1)            0           flatten_53[0][0]                 \n",
      "                                                                 flatten_54[0][0]                 \n",
      "__________________________________________________________________________________________________\n",
      "dense_95 (Dense)                (None, 100)          200         dot_17[0][0]                     \n",
      "__________________________________________________________________________________________________\n",
      "dense_96 (Dense)                (None, 50)           5050        dense_95[0][0]                   \n",
      "__________________________________________________________________________________________________\n",
      "dense_97 (Dense)                (None, 25)           1275        dense_96[0][0]                   \n",
      "__________________________________________________________________________________________________\n",
      "dense_98 (Dense)                (None, 1)            26          dense_97[0][0]                   \n",
      "==================================================================================================\n",
      "Total params: 12,971\n",
      "Trainable params: 12,971\n",
      "Non-trainable params: 0\n",
      "__________________________________________________________________________________________________\n"
     ]
    }
   ],
   "source": [
    "# To do: try same model with same filters, but on dataset of more playlists imported. \n",
    "# The filter below is to screen for songs that occur frequently, since songs that don't occur infrequently confuse the net.\n",
    "# Try other activation functions\n",
    "\n",
    "filter_data = tracks_frame.loc[:,tracks_frame.sum() > 30]\n",
    "filter_data = filter_data[filter_data.sum(axis = 1) > 30]\n",
    "\n",
    "allcombos_frame = filter_data.stack()\n",
    "x_train = allcombos_frame.index.to_frame()\n",
    "\n",
    "item_id = x_train.iloc[:,1].astype('category').cat.codes.values\n",
    "user_id = x_train.iloc[:,0].astype('category').cat.codes.values\n",
    "\n",
    "y_train = np.asarray(allcombos_frame)\n",
    "\n",
    "n_song, n_user = len(x_train.iloc[:,1].unique()), len(x_train.iloc[:,0].unique())\n",
    "n_latent_factors_song = 15\n",
    "n_latent_factors_user = 15\n",
    "\n",
    "song_input = Input(shape=[1])\n",
    "song_embedding = Embedding(n_song + 1, n_latent_factors_song)(song_input)\n",
    "song_vec = Flatten()(song_embedding)\n",
    "\n",
    "user_input = Input(shape=[1])\n",
    "user_embedding = Embedding(n_user + 1, n_latent_factors_user)(user_input)\n",
    "user_vec = Flatten()(user_embedding)\n",
    "\n",
    "dot = Dot(axes=1)([song_vec, user_vec])\n",
    "dense_2 = Dense(100,activation='sigmoid')(dot)\n",
    "dense_3 = Dense(50,activation='sigmoid')(dense_2)\n",
    "dense_4 = Dense(25,activation='sigmoid')(dense_3)\n",
    "\n",
    "result = Dense(1, activation='linear')(dense_4)\n",
    "adam = optimizers.Adam()\n",
    "model = Model([song_input,user_input], result)\n",
    "model.compile(optimizer=adam,loss= 'mean_absolute_error')\n",
    "\n",
    "model.summary()"
   ]
  },
  {
   "cell_type": "code",
   "execution_count": 452,
   "metadata": {},
   "outputs": [
    {
     "name": "stdout",
     "output_type": "stream",
     "text": [
      "Epoch 1/30\n",
      "28469/28469 [==============================] - 3s 112us/step - loss: 0.1273\n",
      "Epoch 2/30\n",
      "28469/28469 [==============================] - 1s 46us/step - loss: 0.1254\n",
      "Epoch 3/30\n",
      "28469/28469 [==============================] - 2s 54us/step - loss: 0.1243\n",
      "Epoch 4/30\n",
      "28469/28469 [==============================] - 1s 46us/step - loss: 0.1236\n",
      "Epoch 5/30\n",
      "28469/28469 [==============================] - 2s 55us/step - loss: 0.1227\n",
      "Epoch 6/30\n",
      "28469/28469 [==============================] - 2s 55us/step - loss: 0.1228\n",
      "Epoch 7/30\n",
      "28469/28469 [==============================] - 2s 54us/step - loss: 0.1222\n",
      "Epoch 8/30\n",
      "28469/28469 [==============================] - 2s 57us/step - loss: 0.1216\n",
      "Epoch 9/30\n",
      "28469/28469 [==============================] - 2s 67us/step - loss: 0.1211\n",
      "Epoch 10/30\n",
      "28469/28469 [==============================] - 2s 61us/step - loss: 0.1162\n",
      "Epoch 11/30\n",
      "28469/28469 [==============================] - 2s 64us/step - loss: 0.1101\n",
      "Epoch 12/30\n",
      "28469/28469 [==============================] - 2s 66us/step - loss: 0.1050\n",
      "Epoch 13/30\n",
      "28469/28469 [==============================] - 2s 58us/step - loss: 0.0995\n",
      "Epoch 14/30\n",
      "28469/28469 [==============================] - 2s 66us/step - loss: 0.0933\n",
      "Epoch 15/30\n",
      "28469/28469 [==============================] - 2s 57us/step - loss: 0.0873\n",
      "Epoch 16/30\n",
      "28469/28469 [==============================] - 1s 51us/step - loss: 0.0812\n",
      "Epoch 17/30\n",
      "28469/28469 [==============================] - 1s 48us/step - loss: 0.0764\n",
      "Epoch 18/30\n",
      "28469/28469 [==============================] - 1s 50us/step - loss: 0.0720\n",
      "Epoch 19/30\n",
      "28469/28469 [==============================] - 1s 47us/step - loss: 0.0683\n",
      "Epoch 20/30\n",
      "28469/28469 [==============================] - 1s 47us/step - loss: 0.0653\n",
      "Epoch 21/30\n",
      "28469/28469 [==============================] - 1s 52us/step - loss: 0.0627\n",
      "Epoch 22/30\n",
      "28469/28469 [==============================] - 1s 50us/step - loss: 0.0611\n",
      "Epoch 23/30\n",
      "28469/28469 [==============================] - 1s 44us/step - loss: 0.0594\n",
      "Epoch 24/30\n",
      "28469/28469 [==============================] - 1s 47us/step - loss: 0.0587\n",
      "Epoch 25/30\n",
      "28469/28469 [==============================] - 1s 44us/step - loss: 0.0579\n",
      "Epoch 26/30\n",
      "28469/28469 [==============================] - 1s 46us/step - loss: 0.0570\n",
      "Epoch 27/30\n",
      "28469/28469 [==============================] - 1s 48us/step - loss: 0.0563\n",
      "Epoch 28/30\n",
      "28469/28469 [==============================] - 1s 44us/step - loss: 0.0560\n",
      "Epoch 29/30\n",
      "28469/28469 [==============================] - 2s 61us/step - loss: 0.0558\n",
      "Epoch 30/30\n",
      "28469/28469 [==============================] - 2s 53us/step - loss: 0.0557\n"
     ]
    }
   ],
   "source": [
    "history = model.fit([item_id,user_id], y_train, epochs=30, verbose=1)\n",
    "model.save('model.h5')"
   ]
  },
  {
   "cell_type": "code",
   "execution_count": 453,
   "metadata": {
    "collapsed": true
   },
   "outputs": [],
   "source": [
    "yhat = model.predict([item_id,user_id])\n",
    "yhat = pd.DataFrame(yhat)\n",
    "yhat.columns = ['Yes']\n",
    "yhat['item_id'] = item_id\n",
    "yhat['user_id'] = user_id"
   ]
  },
  {
   "cell_type": "code",
   "execution_count": 478,
   "metadata": {},
   "outputs": [
    {
     "name": "stdout",
     "output_type": "stream",
     "text": [
      "Predicted Tracks: ['Bad and Boujee (feat. Lil Uzi Vert)' 'goosebumps'\n",
      " 'Drowning (feat. Kodak Black)']\n",
      "Previous Tracks: ['1-800-273-8255' 'Best I Ever Had' 'Bodak Yellow' 'Bounce Back'\n",
      " 'Butterfly Effect' 'Caroline' 'Congratulations' 'DNA.' \"Don't\" 'HUMBLE.'\n",
      " 'HeadBand (feat. 2 Chainz)' \"I Don't Fuck With You\" \"I'm the One\"\n",
      " 'Jordan Belfort' 'LOVE. FEAT. ZACARI.' 'Magnolia' 'Mask Off' 'Mercy'\n",
      " 'No Flockin' 'Passionfruit' 'Rake It Up' 'Redbone'\n",
      " 'Slippery (feat. Gucci Mane)' 'The Motto' 'V. 3005' 'Wild Thoughts'\n",
      " 'X (feat. Future)' 'XO TOUR Llif3' 'iSpy (feat. Lil Yachty)'\n",
      " 'pick up the phone' 'rockstar']\n"
     ]
    },
    {
     "name": "stderr",
     "output_type": "stream",
     "text": [
      "C:\\Users\\asage\\AppData\\Local\\Continuum\\anaconda3\\lib\\site-packages\\ipykernel_launcher.py:12: SettingWithCopyWarning: \n",
      "A value is trying to be set on a copy of a slice from a DataFrame.\n",
      "Try using .loc[row_indexer,col_indexer] = value instead\n",
      "\n",
      "See the caveats in the documentation: http://pandas.pydata.org/pandas-docs/stable/indexing.html#indexing-view-versus-copy\n",
      "  if sys.path[0] == '':\n"
     ]
    }
   ],
   "source": [
    "#nn predict\n",
    "rand_id = 43\n",
    "predictions = yhat[user_id == rand_id]\n",
    "\n",
    "y_actuals = pd.DataFrame(y_train)\n",
    "y_actuals.columns=['Yes']\n",
    "y_actuals['item_id'] = item_id\n",
    "y_actuals['user_id'] = user_id\n",
    "actuals = y_actuals[user_id == rand_id]\n",
    "\n",
    "delta = predictions['Yes'] - actuals['Yes']\n",
    "predictions['delta'] = delta\n",
    "predictions = predictions.sort_values(ascending=False,by='delta')\n",
    "indices_one = predictions.item_id[predictions.delta >= 0.1].values\n",
    "pred_tracks = np.asarray([x_train.track_name[[index]][0] for index in indices_one])\n",
    "\n",
    "actuals_yes = actuals[actuals.Yes == 1]\n",
    "indices_two = actuals_yes.item_id.values\n",
    "actual_tracks = np.asarray([x_train.track_name[[index]][0] for index in indices_two])\n",
    "\n",
    "print(\"Predicted Tracks:\",pred_tracks)\n",
    "print(\"Previous Tracks:\",actual_tracks)"
   ]
  },
  {
   "cell_type": "markdown",
   "metadata": {},
   "source": [
    "**Section 7. The below section utilizes a content-based recommendation approach and pulls pre-existing feature data from Spotify to generate a matrix of features. The first recommender presented below then utilizes a Pearson correlation distance to make recommendations. The recommendations are more novel than with the other systems, since it's based on underlying musical features of the songs.**"
   ]
  },
  {
   "cell_type": "code",
   "execution_count": 4,
   "metadata": {
    "collapsed": true
   },
   "outputs": [],
   "source": [
    "client_credentials_manager = spotipy.oauth2.SpotifyClientCredentials(client_id='8fb83172bc344baa8ca0e8b72753332e',\n",
    "                                                                    client_secret='868717ae831746e39797ca2fd016e533')\n",
    "spotify = spotipy.Spotify(client_credentials_manager=client_credentials_manager)"
   ]
  },
  {
   "cell_type": "code",
   "execution_count": 37,
   "metadata": {
    "collapsed": true
   },
   "outputs": [],
   "source": [
    "uri_frame = playlists_frame.pivot_table(values = 'pos',index = 'pid', \n",
    "                                           columns ='track_uri',aggfunc=lambda x:len(x.unique())).fillna(0)\n",
    "unique_uris = pd.DataFrame(uri_frame.columns)\n",
    "unique_uris['features'] = np.zeros(len(unique_uris))"
   ]
  },
  {
   "cell_type": "code",
   "execution_count": 84,
   "metadata": {
    "collapsed": true
   },
   "outputs": [],
   "source": [
    "def get_features(start_i,end_i): #in-place function to get features in piecemeal given load-time\n",
    "    unique_uris.iloc[start_i:end_i,1] = spotify.audio_features(unique_uris.iloc[start_i:end_i,0])\n",
    "\n",
    "c = 0\n",
    "while (c < 57500):\n",
    "    get_features(c,c+100)\n",
    "    c += 100\n",
    "get_features(57500,57575)"
   ]
  },
  {
   "cell_type": "code",
   "execution_count": 94,
   "metadata": {
    "collapsed": true
   },
   "outputs": [],
   "source": [
    "unique_uris = unpack(unique_uris,'features','')\n",
    "unique_uris.to_csv('trackfeatures.csv')"
   ]
  },
  {
   "cell_type": "code",
   "execution_count": 249,
   "metadata": {
    "collapsed": true
   },
   "outputs": [],
   "source": [
    "features_df = unique_uris.drop(['analysis_url','id','time_signature','track_href','type','uri','mode','key','duration_ms','instrumentalness'],axis=1)\n",
    "features_df.index = features_df.track_uri\n",
    "features_df.drop(['track_uri'],axis=1,inplace=True)\n",
    "# potentially add back mode and key later as dummies\n",
    "\n",
    "# Scale data to between 0 and 1\n",
    "x = features_df.values\n",
    "min_max_scaler = preprocessing.MinMaxScaler()\n",
    "x_scaled = min_max_scaler.fit_transform(x)\n",
    "temp_df = pd.DataFrame(x_scaled)\n",
    "temp_df.index = features_df.index\n",
    "temp_df.columns = features_df.columns\n",
    "features_df = temp_df"
   ]
  },
  {
   "cell_type": "code",
   "execution_count": 250,
   "metadata": {},
   "outputs": [
    {
     "name": "stdout",
     "output_type": "stream",
     "text": [
      "Original Track: Live For\n",
      "Recommended Tracks: 1                  BTFU (Mommy Issues)\n",
      "2                             Brothers\n",
      "3                 Braille (feat. Lori)\n",
      "4                                Dress\n",
      "5    The Calm - Album Version (Edited)\n",
      "6                            Last Time\n",
      "7            Drip, Drop, Drippity Drop\n",
      "8             Didn't I See This Movie?\n",
      "9                              Borders\n",
      "Name: track_name, dtype: object\n"
     ]
    }
   ],
   "source": [
    "rand_track = features_df.iloc[20] # random track selection\n",
    "corr_with_rand = features_df.corrwith(rand_track,axis=1)\n",
    "corr_with_rand = pd.DataFrame(corr_with_rand,columns=['pearsonR'])\n",
    "corr_with_rand.dropna(inplace=True)\n",
    "corr_with_rand = corr_with_rand.sort_values('pearsonR',ascending=False)\n",
    "corr_with_rand = corr_with_rand[0:10]\n",
    "tracks_join = pd.merge(corr_with_rand,unique_tracks, how='left', left_on=corr_with_rand.index, right_on='track_uri')\n",
    "print(\"Original Track:\",tracks_join.track_name[0])\n",
    "print(\"Recommended Tracks:\",tracks_join.track_name[1:])"
   ]
  },
  {
   "cell_type": "code",
   "execution_count": 251,
   "metadata": {},
   "outputs": [
    {
     "data": {
      "image/png": "[encoded data removed]",
      "text/plain": [
       "<Figure size 1440x1080 with 8 Axes>"
      ]
     },
     "metadata": {},
     "output_type": "display_data"
    }
   ],
   "source": [
    "# Check distribution of features compared to overall sample to make sure we are actually recommending similar songs compared to the average\n",
    "rec_feat =  pd.merge(corr_with_rand,features_df, how='left', left_on=corr_with_rand.index, right_on=features_df.index)\n",
    "\n",
    "rec_feat.columns\n",
    "fig, axs = plt.subplots(4,2, figsize=(20,15))\n",
    "for i in range(0,len(features_df.iloc[0,:])):\n",
    "    sns.kdeplot(ax=axs.ravel()[i],data=rec_feat.iloc[:,i+2],label='Recommendations')\n",
    "    sns.kdeplot(ax=axs.ravel()[i],data=features_df.iloc[:,i],label='All Songs')\n",
    "    axs.ravel()[i].set_title(features_df.columns[i])"
   ]
  },
  {
   "cell_type": "code",
   "execution_count": null,
   "metadata": {
    "collapsed": true
   },
   "outputs": [],
   "source": []
  }
 ],
 "metadata": {
  "kernelspec": {
   "display_name": "Python 3",
   "language": "python",
   "name": "python3"
  },
  "language_info": {
   "codemirror_mode": {
    "name": "ipython",
    "version": 3
   },
   "file_extension": ".py",
   "mimetype": "text/x-python",
   "name": "python",
   "nbconvert_exporter": "python",
   "pygments_lexer": "ipython3",
   "version": "3.6.3"
  }
 },
 "nbformat": 4,
 "nbformat_minor": 2
}
